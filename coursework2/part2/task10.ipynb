{
 "cells": [
  {
   "cell_type": "code",
   "execution_count": 11,
   "metadata": {
    "collapsed": true
   },
   "outputs": [],
   "source": [
    "import numpy as np\n",
    "import pandas as pd\n",
    "import matplotlib.pyplot as plt\n",
    "from part2.part2helpers import simulate_trials as simulate_model_1\n",
    "from part2.alternative_simulations import simulate_trials as simulate_model_alts\n",
    "\n",
    "from part2.part2helpers import get_individual_parameter_estimates as get_individual_parameter_estimates_model1\n",
    "from part2.alternative_simulations import get_individual_parameter_estimates_model2, get_individual_parameter_estimates_model3, get_bic, get_aic\n",
    "from part2.part2helpers import get_total_negative_log_likelihood as get_nll_model1\n",
    "from part2.alternative_simulations import get_total_negative_log_likelihood as get_alt_nll"
   ]
  },
  {
   "cell_type": "code",
   "execution_count": 2,
   "outputs": [],
   "source": [
    "num_simulations = 55\n",
    "mean = np.array([0.369,5.683])\n",
    "covariance = np.array([[0.0154, 0], [0, 1.647]])\n",
    "parameter_sets = np.random.multivariate_normal(mean, covariance, num_simulations)"
   ],
   "metadata": {
    "collapsed": false,
    "pycharm": {
     "name": "#%%\n"
    }
   }
  },
  {
   "cell_type": "code",
   "execution_count": 3,
   "outputs": [],
   "source": [
    "all_choices_model1 = []\n",
    "all_reward_received_model1 = []\n",
    "for learning_rate, inverse_temperature in parameter_sets:\n",
    "    stimulus_values, choices, reward_received = simulate_model_1(learning_rate=learning_rate, inverse_temperature=inverse_temperature)\n",
    "    all_choices_model1.append(choices)\n",
    "    all_reward_received_model1.append(reward_received)\n",
    "\n",
    "all_choices_model1 = pd.DataFrame(all_choices_model1)\n",
    "all_reward_received_model1 = pd.DataFrame(all_reward_received_model1)"
   ],
   "metadata": {
    "collapsed": false,
    "pycharm": {
     "name": "#%%\n"
    }
   }
  },
  {
   "cell_type": "code",
   "execution_count": 4,
   "outputs": [],
   "source": [
    "alt_mean = np.array([0.369,5.683, 0, 0])\n",
    "alt_covariance = np.array([[0.0154, 0, 0, 0], [0, 1.647, 0, 0], [0, 0, 0.5, 0], [0, 0, 0, 0.5]])\n",
    "alt_parameter_sets = np.random.multivariate_normal(alt_mean, alt_covariance, 55)"
   ],
   "metadata": {
    "collapsed": false,
    "pycharm": {
     "name": "#%%\n"
    }
   }
  },
  {
   "cell_type": "code",
   "execution_count": 5,
   "outputs": [],
   "source": [
    "all_choices_model2 = []\n",
    "all_reward_received_model2 = []\n",
    "for learning_rate, reward_sensitivity in alt_parameter_sets[:, :2]:\n",
    "    stimulus_values, choices, reward_received = simulate_model_alts(learning_rate=learning_rate, reward_sensitivity=reward_sensitivity)\n",
    "    all_choices_model2.append(choices)\n",
    "    all_reward_received_model2.append(reward_received)\n",
    "\n",
    "all_choices_model2 = pd.DataFrame(all_choices_model2)\n",
    "all_reward_received_model2 = pd.DataFrame(all_reward_received_model2)"
   ],
   "metadata": {
    "collapsed": false,
    "pycharm": {
     "name": "#%%\n"
    }
   }
  },
  {
   "cell_type": "code",
   "execution_count": 6,
   "outputs": [],
   "source": [
    "all_choices_model3 = []\n",
    "all_reward_received_model3 = []\n",
    "for learning_rate, reward_sensitivity, V_A, V_B in alt_parameter_sets:\n",
    "    stimulus_values, choices, reward_received = simulate_model_alts(learning_rate=learning_rate, reward_sensitivity=reward_sensitivity, V_A=V_A, V_B=V_B)\n",
    "    all_choices_model3.append(choices)\n",
    "    all_reward_received_model3.append(reward_received)\n",
    "\n",
    "all_choices_model3 = pd.DataFrame(all_choices_model3)\n",
    "all_reward_received_model3 = pd.DataFrame(all_reward_received_model3)"
   ],
   "metadata": {
    "collapsed": false,
    "pycharm": {
     "name": "#%%\n"
    }
   }
  },
  {
   "cell_type": "code",
   "execution_count": 7,
   "outputs": [
    {
     "name": "stderr",
     "output_type": "stream",
     "text": [
      "/home/mclancy/ccn/coursework2/part2/alternative_simulations.py:68: RuntimeWarning: overflow encountered in exp\n",
      "  choice_probabilities[i] = np.exp(V[choice_index]) \\\n",
      "/home/mclancy/ccn/coursework2/part2/alternative_simulations.py:69: RuntimeWarning: overflow encountered in exp\n",
      "  / (np.exp(V[choice_index]) + np.exp(V[int(not choice_index)]))\n",
      "/home/mclancy/ccn/coursework2/part2/alternative_simulations.py:68: RuntimeWarning: invalid value encountered in double_scalars\n",
      "  choice_probabilities[i] = np.exp(V[choice_index]) \\\n"
     ]
    }
   ],
   "source": [
    "m1_model1_estimates = get_individual_parameter_estimates_model1(all_choices_model1, all_reward_received_model1)\n",
    "m1_model1_nll = get_nll_model1(parameter_sets, all_choices_model1, all_reward_received_model1)\n",
    "m1_model1_aic = get_aic(m1_model1_nll, 2)\n",
    "m1_model1_bic = get_bic(m1_model1_nll, 2, 240)\n",
    "\n",
    "m1_model2_estimates = get_individual_parameter_estimates_model2(all_choices_model1, all_reward_received_model1)\n",
    "m1_model2_nll = get_alt_nll(alt_parameter_sets[:, :2], all_choices_model1, all_reward_received_model1)\n",
    "m1_model2_aic = get_aic(m1_model2_nll, 2)\n",
    "m1_model2_bic = get_bic(m1_model2_nll, 2, 240)\n",
    "\n",
    "m1_model3_estimates = get_individual_parameter_estimates_model3(all_choices_model1, all_reward_received_model1)\n",
    "m1_model3_nll = get_alt_nll(alt_parameter_sets, all_choices_model1, all_reward_received_model1)\n",
    "m1_model3_aic = get_aic(m1_model3_nll, 4)\n",
    "m1_model3_bic = get_bic(m1_model3_nll, 4, 240)"
   ],
   "metadata": {
    "collapsed": false,
    "pycharm": {
     "name": "#%%\n"
    }
   }
  },
  {
   "cell_type": "code",
   "execution_count": 8,
   "outputs": [],
   "source": [
    "m2_model1_estimates = get_individual_parameter_estimates_model1(all_choices_model2, all_reward_received_model2)\n",
    "m2_model1_nll = get_nll_model1(parameter_sets, all_choices_model2, all_reward_received_model2)\n",
    "m2_model1_aic = get_aic(m2_model1_nll, 2)\n",
    "m2_model1_bic = get_bic(m2_model1_nll, 2, 240)\n",
    "\n",
    "m2_model2_estimates = get_individual_parameter_estimates_model2(all_choices_model2, all_reward_received_model2)\n",
    "m2_model2_nll = get_alt_nll(alt_parameter_sets[:, :2], all_choices_model2, all_reward_received_model2)\n",
    "m2_model2_aic = get_aic(m2_model2_nll, 2)\n",
    "m2_model2_bic = get_bic(m2_model2_nll, 2, 240)\n",
    "\n",
    "m2_model3_estimates = get_individual_parameter_estimates_model3(all_choices_model2, all_reward_received_model2)\n",
    "m2_model3_nll = get_alt_nll(alt_parameter_sets, all_choices_model2, all_reward_received_model2)\n",
    "m2_model3_aic = get_aic(m2_model3_nll, 4)\n",
    "m2_model3_bic = get_bic(m2_model3_nll, 4, 240)"
   ],
   "metadata": {
    "collapsed": false,
    "pycharm": {
     "name": "#%%\n"
    }
   }
  },
  {
   "cell_type": "code",
   "execution_count": 9,
   "outputs": [
    {
     "name": "stderr",
     "output_type": "stream",
     "text": [
      "/home/mclancy/ccn/coursework2/part2/part2helpers.py:67: RuntimeWarning: divide by zero encountered in log\n",
      "  return -np.sum(np.log(choice_probabilities))\n",
      "/home/mclancy/ccn/coursework2/part2/part2helpers.py:64: RuntimeWarning: invalid value encountered in double_scalars\n",
      "  choice_probabilities[i] = np.exp(inverse_temperature * V[choice_index]) \\\n",
      "/home/mclancy/ccn/coursework2/part2/alternative_simulations.py:71: RuntimeWarning: divide by zero encountered in log\n",
      "  return -np.sum(np.log(choice_probabilities))\n"
     ]
    }
   ],
   "source": [
    "m3_model1_estimates = get_individual_parameter_estimates_model1(all_choices_model3, all_reward_received_model3)\n",
    "m3_model1_nll = get_nll_model1(parameter_sets, all_choices_model3, all_reward_received_model3)\n",
    "m3_model1_aic = get_aic(m3_model1_nll, 2)\n",
    "m3_model1_bic = get_bic(m3_model1_nll, 2, 240)\n",
    "\n",
    "m3_model2_estimates = get_individual_parameter_estimates_model2(all_choices_model3, all_reward_received_model3)\n",
    "m3_model2_nll = get_alt_nll(alt_parameter_sets[:, :2], all_choices_model3, all_reward_received_model3)\n",
    "m3_model2_aic = get_aic(m3_model2_nll, 2)\n",
    "m3_model2_bic = get_bic(m3_model2_nll, 2, 240)\n",
    "\n",
    "m3_model3_estimates = get_individual_parameter_estimates_model3(all_choices_model3, all_reward_received_model3)\n",
    "m3_model3_nll = get_alt_nll(alt_parameter_sets, all_choices_model3, all_reward_received_model3)\n",
    "m3_model3_aic = get_aic(m3_model3_nll, 4)\n",
    "m3_model3_bic = get_bic(m3_model3_nll, 4, 240)\n"
   ],
   "metadata": {
    "collapsed": false,
    "pycharm": {
     "name": "#%%\n"
    }
   }
  },
  {
   "cell_type": "code",
   "execution_count": 13,
   "outputs": [],
   "source": [
    "aic_conf_mat = [[m1_model1_aic, m1_model2_aic, m1_model3_aic],\n",
    "                [m2_model1_aic, m2_model2_aic, m2_model3_aic],\n",
    "                [m3_model1_aic, m3_model2_aic, m3_model3_aic]]\n",
    "\n",
    "bic_conf_mat = [[m1_model1_bic, m1_model2_bic, m1_model3_bic],\n",
    "                [m2_model1_bic, m2_model2_bic, m2_model3_bic],\n",
    "                [m3_model1_bic, m3_model2_bic, m3_model3_bic]]\n"
   ],
   "metadata": {
    "collapsed": false,
    "pycharm": {
     "name": "#%%\n"
    }
   }
  },
  {
   "cell_type": "code",
   "execution_count": 42,
   "outputs": [
    {
     "name": "stderr",
     "output_type": "stream",
     "text": [
      "<ipython-input-42-8ef3bab1d756>:5: UserWarning: FixedFormatter should only be used together with FixedLocator\n",
      "  axes[0].set_xticklabels([0,1,2,3])\n",
      "<ipython-input-42-8ef3bab1d756>:6: UserWarning: FixedFormatter should only be used together with FixedLocator\n",
      "  axes[0].set_yticklabels([0,1,2,3])\n"
     ]
    },
    {
     "data": {
      "text/plain": "<Figure size 432x288 with 2 Axes>",
      "image/png": "[encoded data removed]"
     },
     "metadata": {
      "needs_background": "light"
     },
     "output_type": "display_data"
    }
   ],
   "source": [
    "fig, axes = plt.subplots(ncols=2, sharex=True, sharey=True)\n",
    "\n",
    "axes[0].set_title(\"AIC\")\n",
    "axes[1].set_title(\"BIC\")\n",
    "axes[0].set_xticklabels([0,1,2,3])\n",
    "axes[0].set_yticklabels([0,1,2,3])\n",
    "axes[0].set_ylabel(\"Simulated model\")\n",
    "axes[0].matshow(aic_conf_mat)\n",
    "axes[1].matshow(bic_conf_mat)\n",
    "axes[0].xaxis.tick_bottom()\n",
    "axes[1].xaxis.tick_bottom()\n",
    "fig.text(0.51, 0.15, 'Fitting model', ha='center')\n",
    "for (i, j), z in np.ndenumerate(aic_conf_mat):\n",
    "    axes[0].text(j, i, '{:0.1f}'.format(z), ha='center', va='center',\n",
    "            bbox=dict(boxstyle='round', facecolor='white', edgecolor='0.3'))\n",
    "\n",
    "for (i, j), z in np.ndenumerate(bic_conf_mat):\n",
    "    axes[1].text(j, i, '{:0.1f}'.format(z), ha='center', va='center',\n",
    "            bbox=dict(boxstyle='round', facecolor='white', edgecolor='0.3'))\n",
    "\n",
    "fig.savefig('../report/figures/part2/task10/confusion_matrix.pdf')"
   ],
   "metadata": {
    "collapsed": false,
    "pycharm": {
     "name": "#%%\n"
    }
   }
  },
  {
   "cell_type": "code",
   "execution_count": null,
   "outputs": [],
   "source": [],
   "metadata": {
    "collapsed": false,
    "pycharm": {
     "name": "#%%\n"
    }
   }
  }
 ],
 "metadata": {
  "kernelspec": {
   "display_name": "Python 3",
   "language": "python",
   "name": "python3"
  },
  "language_info": {
   "codemirror_mode": {
    "name": "ipython",
    "version": 2
   },
   "file_extension": ".py",
   "mimetype": "text/x-python",
   "name": "python",
   "nbconvert_exporter": "python",
   "pygments_lexer": "ipython2",
   "version": "2.7.6"
  }
 },
 "nbformat": 4,
 "nbformat_minor": 0
}