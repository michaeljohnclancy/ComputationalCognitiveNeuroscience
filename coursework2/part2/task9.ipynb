{
 "cells": [
  {
   "cell_type": "code",
   "execution_count": 2,
   "metadata": {
    "collapsed": true
   },
   "outputs": [],
   "source": [
    "import pandas as pd\n",
    "import matplotlib.pyplot as plt\n",
    "from part2.part2helpers import get_individual_parameter_estimates\n",
    "from part2.part2helpers import get_total_negative_log_likelihood as get_nll_model1\n",
    "from part2.alternative_simulations import get_individual_parameter_estimates_model2, get_individual_parameter_estimates_model3, get_aic, get_bic\n",
    "from part2.alternative_simulations import get_total_negative_log_likelihood as get_alt_nll"
   ]
  },
  {
   "cell_type": "code",
   "execution_count": null,
   "outputs": [],
   "source": [
    "choices = pd.read_csv('data/choices.csv', header=None)\n",
    "rewards = pd.read_csv('data/rewards.csv', header=None)\n",
    "# Model 1\n",
    "\n",
    "model1_parameter_estimates = get_individual_parameter_estimates(choices, rewards)\n",
    "model1_nll = get_nll_model1(model1_parameter_estimates)\n",
    "\n",
    "model2_parameter_estimates = get_individual_parameter_estimates_model2(choices, rewards)\n",
    "model2_nll = get_alt_nll(model2_parameter_estimates)\n",
    "\n",
    "model3_parameter_estimates = get_individual_parameter_estimates_model3(choices, rewards)\n",
    "model3_nll = get_alt_nll(model3_parameter_estimates)"
   ],
   "metadata": {
    "collapsed": false,
    "pycharm": {
     "name": "#%%\n"
    }
   }
  },
  {
   "cell_type": "code",
   "execution_count": 3,
   "outputs": [],
   "source": [
    "model_1_aic = get_aic(model1_nll, p=2)\n",
    "model_1_bic = get_bic(model1_nll, p=2, n=240)\n",
    "\n",
    "model_2_aic = get_aic(model2_nll, p=2)\n",
    "model_2_bic = get_bic(model2_nll, p=2, n=240)\n",
    "\n",
    "model_3_aic = get_aic(model3_nll, p=4)\n",
    "model_3_bic = get_bic(model3_nll, p=4, n=240)"
   ],
   "metadata": {
    "collapsed": false,
    "pycharm": {
     "name": "#%%\n"
    }
   }
  },
  {
   "cell_type": "code",
   "execution_count": null,
   "outputs": [],
   "source": [],
   "metadata": {
    "collapsed": false,
    "pycharm": {
     "name": "#%%\n"
    }
   }
  }
 ],
 "metadata": {
  "kernelspec": {
   "display_name": "Python 3",
   "language": "python",
   "name": "python3"
  },
  "language_info": {
   "codemirror_mode": {
    "name": "ipython",
    "version": 2
   },
   "file_extension": ".py",
   "mimetype": "text/x-python",
   "name": "python",
   "nbconvert_exporter": "python",
   "pygments_lexer": "ipython2",
   "version": "2.7.6"
  }
 },
 "nbformat": 4,
 "nbformat_minor": 0
}