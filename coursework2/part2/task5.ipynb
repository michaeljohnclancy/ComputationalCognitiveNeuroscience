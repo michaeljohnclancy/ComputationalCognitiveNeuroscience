{
 "cells": [
  {
   "cell_type": "code",
   "execution_count": 1,
   "outputs": [],
   "source": [
    "import numpy as np\n",
    "import pandas as pd\n",
    "import matplotlib.pyplot as plt\n",
    "from part2.part2helpers import get_individual_parameter_estimates\n",
    "\n",
    "\n",
    "choices = pd.read_csv('data/choices.csv', header=None)\n",
    "rewards = pd.read_csv('data/rewards.csv', header=None)\n",
    "\n",
    "# Model parameters\n",
    "learning_rate = 0.5\n",
    "inverse_temperature = 5\n",
    "initial_parameters = np.array([learning_rate, inverse_temperature])\n"
   ],
   "metadata": {
    "collapsed": false,
    "pycharm": {
     "name": "#%%\n"
    }
   }
  },
  {
   "cell_type": "code",
   "execution_count": 2,
   "outputs": [
    {
     "name": "stdout",
     "output_type": "stream",
     "text": [
      "learning_rate          0.368928\n",
      "inverse_temperature    5.682949\n",
      "dtype: float64\n",
      "learning_rate          0.015400\n",
      "inverse_temperature    1.646639\n",
      "dtype: float64\n"
     ]
    }
   ],
   "source": [
    "optimal_params = get_individual_parameter_estimates(choices, rewards)\n",
    "print(optimal_params.mean())\n",
    "print(optimal_params.var())"
   ],
   "metadata": {
    "collapsed": false,
    "pycharm": {
     "name": "#%%\n"
    }
   }
  },
  {
   "cell_type": "code",
   "execution_count": 3,
   "outputs": [
    {
     "data": {
      "text/plain": "<Figure size 432x288 with 2 Axes>",
      "image/png": "[encoded data removed]"
     },
     "metadata": {
      "needs_background": "light"
     },
     "output_type": "display_data"
    }
   ],
   "source": [
    "fig, axes = plt.subplots(nrows=2, sharex=True)\n",
    "axes[0].scatter(optimal_params.index, optimal_params['learning_rate'])\n",
    "axes[0].axvline(24, c='rosybrown', linestyle='--')\n",
    "axes[0].set_ylabel(\"Learning rate\")\n",
    "axes[1].scatter(optimal_params.index, optimal_params['inverse_temperature'])\n",
    "axes[1].axvline(24, c='rosybrown', linestyle='--')\n",
    "axes[1].set_ylabel(\"Inverse temperature\")\n",
    "\n",
    "fig.savefig('../report/figures/part2/task5/individual_optimized_parameters.pdf')"
   ],
   "metadata": {
    "collapsed": false,
    "pycharm": {
     "name": "#%%\n"
    }
   }
  },
  {
   "cell_type": "code",
   "execution_count": 4,
   "outputs": [
    {
     "data": {
      "text/plain": "                     learning_rate  inverse_temperature\nlearning_rate             1.000000            -0.249682\ninverse_temperature      -0.249682             1.000000",
      "text/html": "<div>\n<style scoped>\n    .dataframe tbody tr th:only-of-type {\n        vertical-align: middle;\n    }\n\n    .dataframe tbody tr th {\n        vertical-align: top;\n    }\n\n    .dataframe thead th {\n        text-align: right;\n    }\n</style>\n<table border=\"1\" class=\"dataframe\">\n  <thead>\n    <tr style=\"text-align: right;\">\n      <th></th>\n      <th>learning_rate</th>\n      <th>inverse_temperature</th>\n    </tr>\n  </thead>\n  <tbody>\n    <tr>\n      <th>learning_rate</th>\n      <td>1.000000</td>\n      <td>-0.249682</td>\n    </tr>\n    <tr>\n      <th>inverse_temperature</th>\n      <td>-0.249682</td>\n      <td>1.000000</td>\n    </tr>\n  </tbody>\n</table>\n</div>"
     },
     "execution_count": 4,
     "metadata": {},
     "output_type": "execute_result"
    }
   ],
   "source": [
    "optimal_params[:24].corr()"
   ],
   "metadata": {
    "collapsed": false,
    "pycharm": {
     "name": "#%%\n"
    }
   }
  },
  {
   "cell_type": "code",
   "execution_count": 5,
   "outputs": [
    {
     "data": {
      "text/plain": "                     learning_rate  inverse_temperature\nlearning_rate             1.000000            -0.172013\ninverse_temperature      -0.172013             1.000000",
      "text/html": "<div>\n<style scoped>\n    .dataframe tbody tr th:only-of-type {\n        vertical-align: middle;\n    }\n\n    .dataframe tbody tr th {\n        vertical-align: top;\n    }\n\n    .dataframe thead th {\n        text-align: right;\n    }\n</style>\n<table border=\"1\" class=\"dataframe\">\n  <thead>\n    <tr style=\"text-align: right;\">\n      <th></th>\n      <th>learning_rate</th>\n      <th>inverse_temperature</th>\n    </tr>\n  </thead>\n  <tbody>\n    <tr>\n      <th>learning_rate</th>\n      <td>1.000000</td>\n      <td>-0.172013</td>\n    </tr>\n    <tr>\n      <th>inverse_temperature</th>\n      <td>-0.172013</td>\n      <td>1.000000</td>\n    </tr>\n  </tbody>\n</table>\n</div>"
     },
     "execution_count": 5,
     "metadata": {},
     "output_type": "execute_result"
    }
   ],
   "source": [
    "optimal_params[24:].corr()\n"
   ],
   "metadata": {
    "collapsed": false,
    "pycharm": {
     "name": "#%%\n"
    }
   }
  },
  {
   "cell_type": "code",
   "execution_count": 5,
   "outputs": [],
   "source": [],
   "metadata": {
    "collapsed": false,
    "pycharm": {
     "name": "#%%\n"
    }
   }
  }
 ],
 "metadata": {
  "kernelspec": {
   "display_name": "Python 3",
   "language": "python",
   "name": "python3"
  },
  "language_info": {
   "codemirror_mode": {
    "name": "ipython",
    "version": 2
   },
   "file_extension": ".py",
   "mimetype": "text/x-python",
   "name": "python",
   "nbconvert_exporter": "python",
   "pygments_lexer": "ipython2",
   "version": "2.7.6"
  }
 },
 "nbformat": 4,
 "nbformat_minor": 0
}