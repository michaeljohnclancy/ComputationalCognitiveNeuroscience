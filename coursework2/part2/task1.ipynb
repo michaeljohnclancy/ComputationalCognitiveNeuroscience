{
 "cells": [
  {
   "cell_type": "code",
   "execution_count": 10,
   "metadata": {
    "collapsed": true
   },
   "outputs": [],
   "source": [
    "import pandas as pd\n",
    "\n",
    "prob_pair_1 = (0.4, 0.85)\n",
    "prob_pair_2 = (0.65, 0.30)\n",
    "choices = pd.read_csv('data/choices.csv', header=None)\n",
    "rewards = pd.read_csv('data/rewards.csv', header=None)"
   ]
  },
  {
   "cell_type": "code",
   "execution_count": 11,
   "outputs": [],
   "source": [
    "num_rewards_received = rewards.sum(axis=1)\n",
    "num_chose_stimulus_b = choices[choices == 2].count(axis=1)"
   ],
   "metadata": {
    "collapsed": false,
    "pycharm": {
     "name": "#%%\n"
    }
   }
  },
  {
   "cell_type": "code",
   "execution_count": 14,
   "outputs": [],
   "source": [
    "expected_num_rewards_received = 5* (24 * ((0.5 * prob_pair_1[0]) + (0.5 * prob_pair_1[1]))\n",
    " + 24 * ((0.5 * prob_pair_2[0]) + (0.5 * prob_pair_2[1]))\n",
    " )"
   ],
   "metadata": {
    "collapsed": false,
    "pycharm": {
     "name": "#%%\n"
    }
   }
  },
  {
   "cell_type": "code",
   "execution_count": null,
   "outputs": [],
   "source": [
    "table_data = pd.concat([num_rewards_received, num_chose_stimulus_b], axis=1)"
   ],
   "metadata": {
    "collapsed": false,
    "pycharm": {
     "name": "#%%\n"
    }
   }
  },
  {
   "cell_type": "code",
   "execution_count": 18,
   "outputs": [
    {
     "name": "stdout",
     "output_type": "stream",
     "text": [
      "\\begin{tabular}{lrr}\n",
      "\\toprule\n",
      "{} &    0 &    1 \\\\\n",
      "\\midrule\n",
      "0  &  154 &   95 \\\\\n",
      "1  &  139 &  106 \\\\\n",
      "2  &  143 &  100 \\\\\n",
      "3  &  156 &  100 \\\\\n",
      "4  &  156 &   96 \\\\\n",
      "5  &  145 &  109 \\\\\n",
      "6  &  134 &  119 \\\\\n",
      "7  &  165 &   98 \\\\\n",
      "8  &  137 &   85 \\\\\n",
      "9  &  151 &   95 \\\\\n",
      "10 &  140 &   96 \\\\\n",
      "11 &  144 &   92 \\\\\n",
      "12 &  144 &  126 \\\\\n",
      "13 &  151 &  106 \\\\\n",
      "14 &  143 &  102 \\\\\n",
      "15 &  158 &   96 \\\\\n",
      "16 &  146 &   78 \\\\\n",
      "17 &  139 &  122 \\\\\n",
      "18 &  161 &  104 \\\\\n",
      "19 &  155 &   43 \\\\\n",
      "20 &  149 &  111 \\\\\n",
      "21 &  145 &   95 \\\\\n",
      "22 &  157 &   89 \\\\\n",
      "23 &  154 &   80 \\\\\n",
      "24 &  156 &  125 \\\\\n",
      "25 &  146 &   88 \\\\\n",
      "26 &  147 &  131 \\\\\n",
      "27 &  141 &   93 \\\\\n",
      "28 &  145 &   82 \\\\\n",
      "29 &  149 &   97 \\\\\n",
      "30 &  152 &   73 \\\\\n",
      "31 &  153 &  102 \\\\\n",
      "32 &  150 &   92 \\\\\n",
      "33 &  149 &   98 \\\\\n",
      "34 &  144 &  123 \\\\\n",
      "35 &  156 &  112 \\\\\n",
      "36 &  163 &  110 \\\\\n",
      "37 &  151 &  108 \\\\\n",
      "38 &  157 &  106 \\\\\n",
      "39 &  159 &   90 \\\\\n",
      "40 &  160 &   92 \\\\\n",
      "41 &  155 &   86 \\\\\n",
      "42 &  146 &   82 \\\\\n",
      "43 &  152 &   87 \\\\\n",
      "44 &  155 &   82 \\\\\n",
      "45 &  155 &   92 \\\\\n",
      "46 &  148 &  100 \\\\\n",
      "47 &  145 &   59 \\\\\n",
      "48 &  150 &   76 \\\\\n",
      "49 &  151 &   97 \\\\\n",
      "50 &  142 &   88 \\\\\n",
      "51 &  150 &  112 \\\\\n",
      "52 &  163 &   61 \\\\\n",
      "53 &  149 &  101 \\\\\n",
      "54 &  148 &   78 \\\\\n",
      "\\bottomrule\n",
      "\\end{tabular}\n",
      "\n"
     ]
    }
   ],
   "source": [
    "print(table_data.to_latex())"
   ],
   "metadata": {
    "collapsed": false,
    "pycharm": {
     "name": "#%%\n"
    }
   }
  },
  {
   "cell_type": "code",
   "execution_count": 19,
   "outputs": [
    {
     "data": {
      "text/plain": "165"
     },
     "execution_count": 19,
     "metadata": {},
     "output_type": "execute_result"
    }
   ],
   "source": [
    "num_rewards_received.max()"
   ],
   "metadata": {
    "collapsed": false,
    "pycharm": {
     "name": "#%%\n"
    }
   }
  },
  {
   "cell_type": "code",
   "execution_count": null,
   "outputs": [],
   "source": [],
   "metadata": {
    "collapsed": false,
    "pycharm": {
     "name": "#%%\n"
    }
   }
  }
 ],
 "metadata": {
  "kernelspec": {
   "display_name": "Python 3",
   "language": "python",
   "name": "python3"
  },
  "language_info": {
   "codemirror_mode": {
    "name": "ipython",
    "version": 2
   },
   "file_extension": ".py",
   "mimetype": "text/x-python",
   "name": "python",
   "nbconvert_exporter": "python",
   "pygments_lexer": "ipython2",
   "version": "2.7.6"
  }
 },
 "nbformat": 4,
 "nbformat_minor": 0
}