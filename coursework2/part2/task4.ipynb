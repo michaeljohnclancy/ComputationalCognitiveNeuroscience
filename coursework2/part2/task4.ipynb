{
 "cells": [
  {
   "cell_type": "code",
   "execution_count": 3,
   "metadata": {
    "collapsed": true
   },
   "outputs": [],
   "source": [
    "import numpy as np\n",
    "import pandas as pd\n",
    "from part2.part2helpers import simulate_trials, get_negative_log_likelihood\n",
    "from part2.part2helpers import get_probability_of_stimulus_a\n",
    "\n",
    "# Model parameters\n",
    "\n",
    "choices = pd.read_csv('data/choices.csv', header=None)\n",
    "rewards = pd.read_csv('data/rewards.csv', header=None)\n",
    "\n",
    "choices_p1 = choices.iloc[1]\n",
    "rewards_p1 = rewards.iloc[1]\n",
    "\n",
    "learning_rate = 0.4\n",
    "inverse_temperature = 6\n",
    "parameters = np.array([learning_rate, inverse_temperature])"
   ]
  },
  {
   "cell_type": "code",
   "execution_count": 4,
   "outputs": [],
   "source": [
    "nll = get_negative_log_likelihood(parameters, choices_p1, rewards_p1)"
   ],
   "metadata": {
    "collapsed": false,
    "pycharm": {
     "name": "#%%"
    }
   }
  },
  {
   "cell_type": "code",
   "execution_count": 2,
   "outputs": [],
   "source": [],
   "metadata": {
    "collapsed": false,
    "pycharm": {
     "name": "#%%\n"
    }
   }
  }
 ],
 "metadata": {
  "kernelspec": {
   "display_name": "Python 3",
   "language": "python",
   "name": "python3"
  },
  "language_info": {
   "codemirror_mode": {
    "name": "ipython",
    "version": 2
   },
   "file_extension": ".py",
   "mimetype": "text/x-python",
   "name": "python",
   "nbconvert_exporter": "python",
   "pygments_lexer": "ipython2",
   "version": "2.7.6"
  }
 },
 "nbformat": 4,
 "nbformat_minor": 0
}