{
 "cells": [
  {
   "cell_type": "code",
   "execution_count": 28,
   "metadata": {
    "collapsed": true
   },
   "outputs": [
    {
     "ename": "ValueError",
     "evalue": "The truth value of an array with more than one element is ambiguous. Use a.any() or a.all()",
     "output_type": "error",
     "traceback": [
      "\u001B[0;31m---------------------------------------------------------------------------\u001B[0m",
      "\u001B[0;31mValueError\u001B[0m                                Traceback (most recent call last)",
      "\u001B[0;32m<ipython-input-28-0ebfa3cc073f>\u001B[0m in \u001B[0;36m<module>\u001B[0;34m\u001B[0m\n\u001B[1;32m     20\u001B[0m \u001B[0;34m\u001B[0m\u001B[0m\n\u001B[1;32m     21\u001B[0m \u001B[0mx\u001B[0m \u001B[0;34m=\u001B[0m \u001B[0mnp\u001B[0m\u001B[0;34m.\u001B[0m\u001B[0marange\u001B[0m\u001B[0;34m(\u001B[0m\u001B[0;34m-\u001B[0m\u001B[0;36m500\u001B[0m\u001B[0;34m,\u001B[0m\u001B[0;36m500\u001B[0m\u001B[0;34m)\u001B[0m\u001B[0;34m\u001B[0m\u001B[0;34m\u001B[0m\u001B[0m\n\u001B[0;32m---> 22\u001B[0;31m \u001B[0mplt\u001B[0m\u001B[0;34m.\u001B[0m\u001B[0mplot\u001B[0m\u001B[0;34m(\u001B[0m\u001B[0mx\u001B[0m\u001B[0;34m,\u001B[0m \u001B[0mphi\u001B[0m\u001B[0;34m(\u001B[0m\u001B[0mx\u001B[0m\u001B[0;34m)\u001B[0m\u001B[0;34m)\u001B[0m\u001B[0;34m\u001B[0m\u001B[0;34m\u001B[0m\u001B[0m\n\u001B[0m\u001B[1;32m     23\u001B[0m \u001B[0;34m\u001B[0m\u001B[0m\n",
      "\u001B[0;32m<ipython-input-28-0ebfa3cc073f>\u001B[0m in \u001B[0;36mphi\u001B[0;34m(x)\u001B[0m\n\u001B[1;32m     14\u001B[0m \u001B[0;34m\u001B[0m\u001B[0m\n\u001B[1;32m     15\u001B[0m \u001B[0;32mdef\u001B[0m \u001B[0mphi\u001B[0m\u001B[0;34m(\u001B[0m\u001B[0mx\u001B[0m\u001B[0;34m)\u001B[0m\u001B[0;34m:\u001B[0m\u001B[0;34m\u001B[0m\u001B[0;34m\u001B[0m\u001B[0m\n\u001B[0;32m---> 16\u001B[0;31m     \u001B[0;32mif\u001B[0m \u001B[0mx\u001B[0m \u001B[0;34m>\u001B[0m \u001B[0;36m0\u001B[0m\u001B[0;34m:\u001B[0m\u001B[0;34m\u001B[0m\u001B[0;34m\u001B[0m\u001B[0m\n\u001B[0m\u001B[1;32m     17\u001B[0m         \u001B[0;32mreturn\u001B[0m \u001B[0mbeta\u001B[0m\u001B[0;34m*\u001B[0m\u001B[0mx\u001B[0m\u001B[0;34m**\u001B[0m\u001B[0mgamma\u001B[0m\u001B[0;34m\u001B[0m\u001B[0;34m\u001B[0m\u001B[0m\n\u001B[1;32m     18\u001B[0m     \u001B[0;32melse\u001B[0m\u001B[0;34m:\u001B[0m\u001B[0;34m\u001B[0m\u001B[0;34m\u001B[0m\u001B[0m\n",
      "\u001B[0;31mValueError\u001B[0m: The truth value of an array with more than one element is ambiguous. Use a.any() or a.all()"
     ]
    }
   ],
   "source": [
    "import numpy as np\n",
    "import matplotlib.pyplot as plt\n",
    "\n",
    "# Question 1\n",
    "beta = 1\n",
    "gamma = 2\n",
    "T_E = 10\n",
    "T_I = 10\n",
    "W_EE = 1.5\n",
    "W_EI = 1.8\n",
    "W_IE = 1.8\n",
    "W_II = 1\n",
    "dt = 0.1\n",
    "\n",
    "def phi(x):\n",
    "    if x > 0:\n",
    "        return beta*x**gamma\n",
    "    else:\n",
    "        return 0*x\n",
    "\n",
    "x = np.arange(-500,500)\n",
    "plt.plot(x, phi(x))"
   ]
  },
  {
   "cell_type": "code",
   "execution_count": 16,
   "outputs": [],
   "source": [
    "def model(r_E, r_I, u_E, u_I):\n",
    "    drEdt = (-r_E + phi(W_EE*r_E - W_EI*r_I + u_E))/T_E\n",
    "    drIdt = (-r_I + phi(W_IE*r_E - W_II*r_I + u_I))/T_I\n",
    "    return [drEdt, drIdt]\n",
    "\n",
    "def simulate(t, u_E, u_I, h, r_E_in=0, r_I_in=0, update_i=True, update_e=True):\n",
    "    r_E = np.zeros(len(t))\n",
    "    r_I = np.zeros(len(t))\n",
    "\n",
    "    r_E[0] = r_E_in\n",
    "    r_I[0] = r_I_in\n",
    "    for i in range(1, len(t)):\n",
    "        drEdt, drIdt = model(r_E[i-1], r_I[i-1], u_E=u_E, u_I=u_I)\n",
    "\n",
    "        if update_i:\n",
    "            r_E[i] = r_E[i-1] + drEdt * h\n",
    "        else:\n",
    "            r_E[i] = r_E[i-1]\n",
    "\n",
    "        if update_e:\n",
    "            r_I[i] = r_I[i-1] + drIdt * h\n",
    "        else:\n",
    "            r_I[i] = r_I[i-1]\n",
    "\n",
    "    return r_E, r_I\n",
    "\n",
    "# Question 2\n",
    "u_E = 1\n",
    "u_I = 1"
   ],
   "metadata": {
    "collapsed": false,
    "pycharm": {
     "name": "#%%\n"
    }
   }
  },
  {
   "cell_type": "code",
   "execution_count": 29,
   "outputs": [
    {
     "data": {
      "text/plain": "<Figure size 432x288 with 1 Axes>",
      "image/png": "[encoded data removed]"
     },
     "metadata": {
      "needs_background": "light"
     },
     "output_type": "display_data"
    }
   ],
   "source": [
    "# Question 2\n",
    "N_t = 1000\n",
    "t = np.linspace(0, N_t, int(N_t/dt)+1)\n",
    "r_E, r_I = simulate(t=t,\n",
    "                    u_E=u_E,\n",
    "                    u_I=u_I,\n",
    "                    h=dt)\n",
    "\n",
    "plt.plot(t, r_E, label='Excitatory firing rate')\n",
    "plt.plot(t, r_I, label='Inhibitory firing rate')\n",
    "plt.legend()\n",
    "plt.savefig('figures/task2/question2.pdf')"
   ],
   "metadata": {
    "collapsed": false,
    "pycharm": {
     "name": "#%%\n"
    }
   }
  },
  {
   "cell_type": "code",
   "execution_count": 33,
   "outputs": [],
   "source": [
    "# Question 3\n",
    "c_range = np.arange(0, 3, 0.1)\n",
    "E_steady_states = []\n",
    "I_steady_states = []\n",
    "for c in c_range:\n",
    "    u_E = c\n",
    "    u_I = c\n",
    "    r_E, r_I = simulate(t=t,\n",
    "                        u_E=u_E,\n",
    "                        u_I=u_I,\n",
    "                        h=dt)\n",
    "    E_steady_states.append(r_E[-1])\n",
    "    I_steady_states.append(r_I[-1])"
   ],
   "metadata": {
    "collapsed": false,
    "pycharm": {
     "name": "#%%\n"
    }
   }
  },
  {
   "cell_type": "code",
   "execution_count": 36,
   "outputs": [
    {
     "data": {
      "text/plain": "[<matplotlib.lines.Line2D at 0x7feca6c81a30>]"
     },
     "execution_count": 36,
     "metadata": {},
     "output_type": "execute_result"
    },
    {
     "data": {
      "text/plain": "<Figure size 432x288 with 1 Axes>",
      "image/png": "[encoded data removed]"
     },
     "metadata": {
      "needs_background": "light"
     },
     "output_type": "display_data"
    }
   ],
   "source": [
    "plt.plot(c_range, E_steady_states)\n",
    "plt.plot(c_range, I_steady_states)\n"
   ],
   "metadata": {
    "collapsed": false,
    "pycharm": {
     "name": "#%%\n"
    }
   }
  }
 ],
 "metadata": {
  "kernelspec": {
   "display_name": "Python 3",
   "language": "python",
   "name": "python3"
  },
  "language_info": {
   "codemirror_mode": {
    "name": "ipython",
    "version": 2
   },
   "file_extension": ".py",
   "mimetype": "text/x-python",
   "name": "python",
   "nbconvert_exporter": "python",
   "pygments_lexer": "ipython2",
   "version": "2.7.6"
  }
 },
 "nbformat": 4,
 "nbformat_minor": 0
}